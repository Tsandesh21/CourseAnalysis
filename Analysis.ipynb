{
 "cells": [
  {
   "cell_type": "code",
   "execution_count": 1,
   "id": "f77533ca",
   "metadata": {},
   "outputs": [],
   "source": [
    "import pandas as pd\n",
    "import numpy as np"
   ]
  },
  {
   "cell_type": "code",
   "execution_count": 2,
   "id": "93b2dcd6",
   "metadata": {},
   "outputs": [],
   "source": [
    "courses=pd.read_excel('Course Dataset.xlsx',sheet_name=1)\n",
    "rating=pd.read_excel('Course Dataset.xlsx',sheet_name=2)"
   ]
  },
  {
   "cell_type": "code",
   "execution_count": 3,
   "id": "48e01ef2",
   "metadata": {},
   "outputs": [
    {
     "name": "stdout",
     "output_type": "stream",
     "text": [
      "<class 'pandas.core.frame.DataFrame'>\n",
      "RangeIndex: 891 entries, 0 to 890\n",
      "Data columns (total 7 columns):\n",
      " #   Column                    Non-Null Count  Dtype  \n",
      "---  ------                    --------------  -----  \n",
      " 0   S.No                      891 non-null    int64  \n",
      " 1   course_title              891 non-null    object \n",
      " 2   course_organization       891 non-null    object \n",
      " 3   course_Certificate_type   888 non-null    object \n",
      " 4   course_rating             881 non-null    float64\n",
      " 5   course_difficulty         891 non-null    object \n",
      " 6   course_students_enrolled  891 non-null    object \n",
      "dtypes: float64(1), int64(1), object(5)\n",
      "memory usage: 48.9+ KB\n"
     ]
    }
   ],
   "source": [
    "courses.info()"
   ]
  },
  {
   "cell_type": "code",
   "execution_count": 9,
   "id": "7a50c890",
   "metadata": {},
   "outputs": [
    {
     "data": {
      "text/plain": [
       "0"
      ]
     },
     "execution_count": 9,
     "metadata": {},
     "output_type": "execute_result"
    }
   ],
   "source": [
    "courses.duplicated().sum()"
   ]
  },
  {
   "cell_type": "code",
   "execution_count": 21,
   "id": "d2c7b666",
   "metadata": {},
   "outputs": [
    {
     "data": {
      "text/plain": [
       "11"
      ]
     },
     "execution_count": 21,
     "metadata": {},
     "output_type": "execute_result"
    }
   ],
   "source": [
    "courses['course_Certificate_type'].nunique()"
   ]
  },
  {
   "cell_type": "code",
   "execution_count": 20,
   "id": "79f18740",
   "metadata": {},
   "outputs": [
    {
     "data": {
      "text/plain": [
       "9"
      ]
     },
     "execution_count": 20,
     "metadata": {},
     "output_type": "execute_result"
    }
   ],
   "source": [
    "courses['course_Certificate_type'].str.upper().nunique()"
   ]
  },
  {
   "cell_type": "code",
   "execution_count": 22,
   "id": "c49f71d1",
   "metadata": {},
   "outputs": [
    {
     "name": "stdout",
     "output_type": "stream",
     "text": [
      "11\n",
      "9\n"
     ]
    }
   ],
   "source": [
    "print(courses['course_Certificate_type'].nunique())\n",
    "print(courses['course_Certificate_type'].str.upper().nunique())"
   ]
  },
  {
   "cell_type": "code",
   "execution_count": 23,
   "id": "ed04b1c3",
   "metadata": {},
   "outputs": [
    {
     "name": "stdout",
     "output_type": "stream",
     "text": [
      "4\n",
      "4\n"
     ]
    }
   ],
   "source": [
    "print(courses['course_difficulty'].nunique())\n",
    "print(courses['course_difficulty'].str.upper().nunique())"
   ]
  },
  {
   "cell_type": "code",
   "execution_count": 25,
   "id": "1b060a68",
   "metadata": {},
   "outputs": [
    {
     "data": {
      "text/html": [
       "<div>\n",
       "<style scoped>\n",
       "    .dataframe tbody tr th:only-of-type {\n",
       "        vertical-align: middle;\n",
       "    }\n",
       "\n",
       "    .dataframe tbody tr th {\n",
       "        vertical-align: top;\n",
       "    }\n",
       "\n",
       "    .dataframe thead th {\n",
       "        text-align: right;\n",
       "    }\n",
       "</style>\n",
       "<table border=\"1\" class=\"dataframe\">\n",
       "  <thead>\n",
       "    <tr style=\"text-align: right;\">\n",
       "      <th></th>\n",
       "      <th>S.No</th>\n",
       "      <th>course_title</th>\n",
       "      <th>course_organization</th>\n",
       "      <th>course_Certificate_type</th>\n",
       "      <th>course_rating</th>\n",
       "      <th>course_difficulty</th>\n",
       "      <th>course_students_enrolled</th>\n",
       "    </tr>\n",
       "  </thead>\n",
       "  <tbody>\n",
       "    <tr>\n",
       "      <th>79</th>\n",
       "      <td>80</td>\n",
       "      <td>Basic Statistics</td>\n",
       "      <td>University of Amsterdam</td>\n",
       "      <td>NaN</td>\n",
       "      <td>4.6</td>\n",
       "      <td>Beginner</td>\n",
       "      <td>180k</td>\n",
       "    </tr>\n",
       "    <tr>\n",
       "      <th>105</th>\n",
       "      <td>106</td>\n",
       "      <td>Building Conversational Experiences with Dialo...</td>\n",
       "      <td>Google Cloud</td>\n",
       "      <td>NaN</td>\n",
       "      <td>4.5</td>\n",
       "      <td>Beginner</td>\n",
       "      <td>22k</td>\n",
       "    </tr>\n",
       "    <tr>\n",
       "      <th>127</th>\n",
       "      <td>128</td>\n",
       "      <td>Camino a la Excelencia en Gestión de Proyectos</td>\n",
       "      <td>Pontificia Universidad Católica de Chile</td>\n",
       "      <td>NaN</td>\n",
       "      <td>4.7</td>\n",
       "      <td>Beginner</td>\n",
       "      <td>340k</td>\n",
       "    </tr>\n",
       "  </tbody>\n",
       "</table>\n",
       "</div>"
      ],
      "text/plain": [
       "     S.No                                       course_title  \\\n",
       "79     80                                   Basic Statistics   \n",
       "105   106  Building Conversational Experiences with Dialo...   \n",
       "127   128     Camino a la Excelencia en Gestión de Proyectos   \n",
       "\n",
       "                          course_organization course_Certificate_type  \\\n",
       "79                    University of Amsterdam                     NaN   \n",
       "105                              Google Cloud                     NaN   \n",
       "127  Pontificia Universidad Católica de Chile                     NaN   \n",
       "\n",
       "     course_rating course_difficulty course_students_enrolled  \n",
       "79             4.6          Beginner                     180k  \n",
       "105            4.5          Beginner                      22k  \n",
       "127            4.7          Beginner                     340k  "
      ]
     },
     "execution_count": 25,
     "metadata": {},
     "output_type": "execute_result"
    }
   ],
   "source": [
    "courses[courses['course_Certificate_type'].isna()]"
   ]
  },
  {
   "cell_type": "code",
   "execution_count": 28,
   "id": "f4e447b3",
   "metadata": {},
   "outputs": [
    {
     "data": {
      "text/plain": [
       "COURSE                       578\n",
       "SPECIALIZATION               293\n",
       "PROFESSIONAL CERTIFICATE       7\n",
       "SPECIALIZATOIN                 2\n",
       "SPCEIALIZATION                 2\n",
       "PROFESSION CERTIFICATE         2\n",
       "PROFESSIOAL CERTIFICATE        2\n",
       "PROFESSIONAL  CERTIFICATE      1\n",
       "COU RSE                        1\n",
       "Name: course_Certificate_type, dtype: int64"
      ]
     },
     "execution_count": 28,
     "metadata": {},
     "output_type": "execute_result"
    }
   ],
   "source": [
    "courses['course_Certificate_type'].str.upper().value_counts()"
   ]
  },
  {
   "cell_type": "code",
   "execution_count": 29,
   "id": "10707b62",
   "metadata": {},
   "outputs": [
    {
     "data": {
      "text/html": [
       "<div>\n",
       "<style scoped>\n",
       "    .dataframe tbody tr th:only-of-type {\n",
       "        vertical-align: middle;\n",
       "    }\n",
       "\n",
       "    .dataframe tbody tr th {\n",
       "        vertical-align: top;\n",
       "    }\n",
       "\n",
       "    .dataframe thead th {\n",
       "        text-align: right;\n",
       "    }\n",
       "</style>\n",
       "<table border=\"1\" class=\"dataframe\">\n",
       "  <thead>\n",
       "    <tr style=\"text-align: right;\">\n",
       "      <th></th>\n",
       "      <th>S.No</th>\n",
       "      <th>course_title</th>\n",
       "      <th>course_organization</th>\n",
       "      <th>course_Certificate_type</th>\n",
       "      <th>course_rating</th>\n",
       "      <th>course_difficulty</th>\n",
       "      <th>course_students_enrolled</th>\n",
       "    </tr>\n",
       "  </thead>\n",
       "  <tbody>\n",
       "    <tr>\n",
       "      <th>53</th>\n",
       "      <td>54</td>\n",
       "      <td>Antimicrobial resistance - theory and methods</td>\n",
       "      <td>Technical University of Denmark (DTU)</td>\n",
       "      <td>COURSE</td>\n",
       "      <td>9.0</td>\n",
       "      <td>Intermediate</td>\n",
       "      <td>63k</td>\n",
       "    </tr>\n",
       "    <tr>\n",
       "      <th>92</th>\n",
       "      <td>93</td>\n",
       "      <td>Biostatistics in Public Health</td>\n",
       "      <td>Johns Hopkins University</td>\n",
       "      <td>SPECIALIZATION</td>\n",
       "      <td>10.0</td>\n",
       "      <td>Beginner</td>\n",
       "      <td>14k</td>\n",
       "    </tr>\n",
       "    <tr>\n",
       "      <th>120</th>\n",
       "      <td>121</td>\n",
       "      <td>Business Writing</td>\n",
       "      <td>University of Colorado Boulder</td>\n",
       "      <td>course</td>\n",
       "      <td>12.0</td>\n",
       "      <td>Beginner</td>\n",
       "      <td>48k</td>\n",
       "    </tr>\n",
       "    <tr>\n",
       "      <th>620</th>\n",
       "      <td>621</td>\n",
       "      <td>Nanotechnology: A Maker’s Course</td>\n",
       "      <td>Duke University</td>\n",
       "      <td>COURSE</td>\n",
       "      <td>6.1</td>\n",
       "      <td>Mixed</td>\n",
       "      <td>21k</td>\n",
       "    </tr>\n",
       "  </tbody>\n",
       "</table>\n",
       "</div>"
      ],
      "text/plain": [
       "     S.No                                   course_title  \\\n",
       "53     54  Antimicrobial resistance - theory and methods   \n",
       "92     93                 Biostatistics in Public Health   \n",
       "120   121                               Business Writing   \n",
       "620   621               Nanotechnology: A Maker’s Course   \n",
       "\n",
       "                       course_organization course_Certificate_type  \\\n",
       "53   Technical University of Denmark (DTU)                  COURSE   \n",
       "92                Johns Hopkins University          SPECIALIZATION   \n",
       "120         University of Colorado Boulder                  course   \n",
       "620                        Duke University                  COURSE   \n",
       "\n",
       "     course_rating course_difficulty course_students_enrolled  \n",
       "53             9.0      Intermediate                      63k  \n",
       "92            10.0          Beginner                      14k  \n",
       "120           12.0          Beginner                      48k  \n",
       "620            6.1             Mixed                      21k  "
      ]
     },
     "execution_count": 29,
     "metadata": {},
     "output_type": "execute_result"
    }
   ],
   "source": [
    "courses[courses['course_rating']>5]"
   ]
  },
  {
   "cell_type": "code",
   "execution_count": null,
   "id": "638a399e",
   "metadata": {},
   "outputs": [],
   "source": []
  }
 ],
 "metadata": {
  "kernelspec": {
   "display_name": "Python 3 (ipykernel)",
   "language": "python",
   "name": "python3"
  },
  "language_info": {
   "codemirror_mode": {
    "name": "ipython",
    "version": 3
   },
   "file_extension": ".py",
   "mimetype": "text/x-python",
   "name": "python",
   "nbconvert_exporter": "python",
   "pygments_lexer": "ipython3",
   "version": "3.9.7"
  }
 },
 "nbformat": 4,
 "nbformat_minor": 5
}
